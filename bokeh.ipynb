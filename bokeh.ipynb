{
  "nbformat": 4,
  "nbformat_minor": 0,
  "metadata": {
    "colab": {
      "provenance": [],
      "authorship_tag": "ABX9TyN69wlc7eDyxeAlDxc06LuC",
      "include_colab_link": true
    },
    "kernelspec": {
      "name": "python3",
      "display_name": "Python 3"
    },
    "language_info": {
      "name": "python"
    }
  },
  "cells": [
    {
      "cell_type": "markdown",
      "metadata": {
        "id": "view-in-github",
        "colab_type": "text"
      },
      "source": [
        "<a href=\"https://colab.research.google.com/github/riyacoder23/bokeh/blob/main/bokeh.ipynb\" target=\"_parent\"><img src=\"https://colab.research.google.com/assets/colab-badge.svg\" alt=\"Open In Colab\"/></a>"
      ]
    },
    {
      "cell_type": "markdown",
      "source": [
        "Q1. How can you create a Bokeh plot using Python code?"
      ],
      "metadata": {
        "id": "HWEBM5j7iVMV"
      }
    },
    {
      "cell_type": "code",
      "execution_count": 12,
      "metadata": {
        "id": "7spPdGDrhs26"
      },
      "outputs": [],
      "source": [
        "from bokeh.plotting import figure,output_file,show\n",
        "plot=figure(title=\"simple bokeh plot\",x_axis_label=\"x_axis\",y_axis_label=\"y_axis\")\n",
        "x=[1,2,3,4,5]\n",
        "y=[6,7,2,4,5]\n",
        "plot.line(x,y,line_width=2,legend_label=\"Line\")\n",
        "output_file(\"bokeh.html\")\n",
        "show(plot)\n"
      ]
    },
    {
      "cell_type": "markdown",
      "source": [
        "Q2. What are glyphs in Bokeh, and how can you add them to a Bokeh plot? Explain with an example"
      ],
      "metadata": {
        "id": "_EgwmfXEobZ5"
      }
    },
    {
      "cell_type": "markdown",
      "source": [
        "Ans.glyphs are the basic visual building blocks used to create plots. Glyphs represent individual data points or shapes that can be added to a plot to visualize your data. Different types of glyphs correspond to different types of visual representations, such as lines, circles, rectangles, and more."
      ],
      "metadata": {
        "id": "yJ_0zsL0oyCw"
      }
    },
    {
      "cell_type": "code",
      "source": [
        "plot.line(x, y, line_width=2, line_color=\"blue\", legend_label=\"Line\")\n",
        "\n",
        "# Add circle glyph\n",
        "plot.circle(x, y, size=10, fill_color=\"red\", line_color=\"black\", legend_label=\"Circles\")\n",
        "\n",
        "# Add square glyph\n",
        "plot.square(x, y, size=10, fill_color=\"green\", line_color=\"black\", legend_label=\"Squares\")\n",
        "\n",
        "# Specify output and display\n",
        "output_file(\"bokeh_glyphs.html\")\n",
        "show(plot)"
      ],
      "metadata": {
        "id": "yDyloqEYoWrk"
      },
      "execution_count": 13,
      "outputs": []
    },
    {
      "cell_type": "markdown",
      "source": [
        "Q3. How can you customize the appearance of a Bokeh plot, including the axes, title, and legend?"
      ],
      "metadata": {
        "id": "zcNkgRk3p_Kz"
      }
    },
    {
      "cell_type": "code",
      "source": [
        "from bokeh.plotting import figure, output_file, show\n",
        "\n",
        "# Create data\n",
        "x = [1, 2, 3, 4, 5]\n",
        "y = [6, 7, 2, 4, 5]\n",
        "\n",
        "# Create a figure\n",
        "plot = figure(\n",
        "    title=\"Customized Bokeh Plot\",\n",
        "    x_axis_label=\"X-axis Label\",\n",
        "    y_axis_label=\"Y-axis Label\",\n",
        "    width=600,\n",
        "    height=400,\n",
        ")\n",
        "\n",
        "# Add data to the plot\n",
        "plot.line(x, y, line_width=2, line_color=\"blue\", legend_label=\"Line\")\n",
        "\n",
        "# Customize axes\n",
        "plot.xaxis.axis_label_text_font_size = \"14pt\"\n",
        "plot.yaxis.axis_label_text_font_size = \"14pt\"\n",
        "plot.xaxis.major_label_text_font_size = \"12pt\"\n",
        "plot.yaxis.major_label_text_font_size = \"12pt\"\n",
        "\n",
        "# Customize title\n",
        "plot.title.text_color = \"green\"\n",
        "plot.title.text_font_size = \"16pt\"\n",
        "\n",
        "# Customize legend\n",
        "plot.legend.title = \"Legend Title\"\n",
        "plot.legend.label_text_font_size = \"12pt\"\n",
        "plot.legend.title_text_font_size = \"14pt\"\n",
        "\n",
        "# Customize background\n",
        "plot.background_fill_color = \"lightgray\"\n",
        "\n",
        "# Specify output and display\n",
        "output_file(\"customized_bokeh_plot.html\")\n",
        "show(plot)\n",
        ""
      ],
      "metadata": {
        "id": "vFO2oncYrjwl"
      },
      "execution_count": 16,
      "outputs": []
    },
    {
      "cell_type": "markdown",
      "source": [
        "Q4. What is a Bokeh server, and how can you use it to create interactive plots that can be updated in real time?"
      ],
      "metadata": {
        "id": "FXp-DdiIyjp8"
      }
    },
    {
      "cell_type": "code",
      "source": [
        "from bokeh.plotting import figure, curdoc\n",
        "from bokeh.models import ColumnDataSource\n",
        "from bokeh.layouts import column\n",
        "from bokeh.models.widgets import Slider\n"
      ],
      "metadata": {
        "id": "Lg7kp2Mz0cse"
      },
      "execution_count": 17,
      "outputs": []
    },
    {
      "cell_type": "code",
      "source": [
        "# Create a figure\n",
        "plot = figure(title=\"Interactive Bokeh Plot\", x_axis_label=\"X-axis\", y_axis_label=\"Y-axis\")\n",
        "\n",
        "# Create a ColumnDataSource\n",
        "source = ColumnDataSource(data={'x': [1, 2, 3, 4, 5], 'y': [6, 7, 2, 4, 5]})\n",
        "\n",
        "# Add a line glyph\n",
        "plot.line('x', 'y', source=source, line_width=2, line_color=\"blue\")\n",
        "\n",
        "# Create a slider widget\n",
        "slider = Slider(start=0, end=10, step=0.1, value=0, title=\"Slider\")\n",
        "\n",
        "# Define callback function for slider change\n",
        "def update_plot(attr, old, new):\n",
        "    new_y = [val + slider.value for val in source.data['y']]\n",
        "    source.data['y'] = new_y\n",
        "\n",
        "slider.on_change('value', update_plot)\n",
        "\n",
        "# Create a layout\n",
        "layout = column(slider, plot)\n",
        "\n",
        "# Add layout to the current document\n",
        "curdoc().add_root(layout)\n"
      ],
      "metadata": {
        "id": "0ByfS7xG0n67"
      },
      "execution_count": 18,
      "outputs": []
    },
    {
      "cell_type": "markdown",
      "source": [
        "Q5. How can you embed a Bokeh plot into a web page or dashboard using Flask or Django?"
      ],
      "metadata": {
        "id": "LpYFNLVK3Uik"
      }
    },
    {
      "cell_type": "code",
      "source": [
        "from flask import Flask, render_template\n",
        "from bokeh.embed import components\n",
        "from bokeh.plotting import figure\n",
        "\n",
        "app = Flask(__name__)\n",
        "\n",
        "@app.route('/')\n",
        "def index():\n",
        "    # Create a Bokeh plot\n",
        "    plot = figure()\n",
        "    plot.line([1, 2, 3], [4, 5, 6])\n",
        "\n",
        "    # Embed the plot into the template\n",
        "    script, div = components(plot)\n",
        "    return render_template('index.html', script=script, div=div)\n",
        "\n",
        "if __name__ == '__main__':\n",
        "    app.run(debug=True)\n"
      ],
      "metadata": {
        "id": "b3PJGAqy1Bmg"
      },
      "execution_count": null,
      "outputs": []
    },
    {
      "cell_type": "code",
      "source": [
        "<!DOCTYPE html>\n",
        "<html>\n",
        "<head>\n",
        "    <title>Bokeh Plot</title>\n",
        "    {{ script|safe }}\n",
        "</head>\n",
        "<body>\n",
        "    <h1>Bokeh Plot</h1>\n",
        "    {{ div|safe }}\n",
        "</body>\n",
        "</html>\n"
      ],
      "metadata": {
        "id": "4x5L70ic3f-l"
      },
      "execution_count": null,
      "outputs": []
    },
    {
      "cell_type": "code",
      "source": [
        "flask run\n"
      ],
      "metadata": {
        "id": "kYUwPCrz3qUN"
      },
      "execution_count": null,
      "outputs": []
    },
    {
      "cell_type": "code",
      "source": [
        "django-admin startproject myproject\n",
        "cd myproject\n",
        "python manage.py startapp myapp\n"
      ],
      "metadata": {
        "id": "DryqCTB_3xiY"
      },
      "execution_count": null,
      "outputs": []
    },
    {
      "cell_type": "code",
      "source": [
        "from django.shortcuts import render\n",
        "from bokeh.plotting import figure\n",
        "from bokeh.embed import components\n",
        "import numpy as np\n",
        "\n",
        "def index(request):\n",
        "    x = np.linspace(0, 10, 100)\n",
        "    y = np.sin(x)\n",
        "    plot = figure(title=\"Bokeh Plot with Django\")\n",
        "    plot.line(x, y, line_width=2)\n",
        "    script, div = components(plot)\n",
        "    return render(request, 'myapp/index.html', {'script': script, 'div': div})\n"
      ],
      "metadata": {
        "id": "D8LHXi_B37Ea"
      },
      "execution_count": null,
      "outputs": []
    }
  ]
}